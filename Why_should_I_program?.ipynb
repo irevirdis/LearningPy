{
 "cells": [
  {
   "cell_type": "markdown",
   "metadata": {},
   "source": [
    "## Welcome to the Learning Session\n",
    " "
   ]
  },
  {
   "cell_type": "markdown",
   "metadata": {},
   "source": [
    "The aim of this project is to promote coding and learning how to use Effective-Quadratures, also for basic issues; you need the following tools:\n",
    "- A Python compiler (Effective Quadratures can be run both in Python 2 and Python3)\n",
    "- Jupyter to visualize the training notebooks\n",
    "- A text editor to write your scripts\n",
    "\n",
    "Let's start with a common question and discuss about the advanteges of programming!\n",
    "\n",
    "### Why should I program?\n",
    "Programming can be seen as teaching how realizing your idea to a machine, using a proper language (we will 'speak' to the computer with Python languages). Image your computer like a powerful tool, with huge computational resources, but you are the one who gives the most important thing: the idea.\n",
    "\n",
    "The process and the steps to achieve a final result have to be organized in our mind before coding (let's call it the $\\textbf{'semantic'}$ of a problem): we have to tell the computer how our system works; to communicate the instructions we are expected to use properly the language (let's call it the $\\textbf{'syntax'}$ of the problem): practice is the best way to learn it! "
   ]
  },
  {
   "cell_type": "markdown",
   "metadata": {},
   "source": [
    "### Some examples of programming convenience\n",
    "\n",
    "Programming allowes to solve a problem automatically, taking advance of the great computational power of our computer, saving time and effort; sometimes is hard to find a sofware which answers to our working need (a particular procedure, calculus and so on..) and building a simple $\\textit{script}$ should solve our problem, giving us the opportunity to re-use the tool a second time.\n",
    "\n",
    "#### Problem 1\n",
    "##### Semantic of the problem:\n",
    "I am looking for a car parking: it should be not far (less then 200m from the main entrance)\n",
    "##### Syntax of the problem:"
   ]
  },
  {
   "cell_type": "code",
   "execution_count": 1,
   "metadata": {},
   "outputs": [],
   "source": [
    "def decide(distance):\n",
    "    tollerance = 200 # m\n",
    "    if distance > tollerance:\n",
    "        print('I will not park here')\n",
    "    else:\n",
    "        print('let s park here!')"
   ]
  },
  {
   "cell_type": "markdown",
   "metadata": {},
   "source": [
    "Let's try the parking function.."
   ]
  },
  {
   "cell_type": "code",
   "execution_count": 2,
   "metadata": {},
   "outputs": [
    {
     "name": "stdout",
     "output_type": "stream",
     "text": [
      "I will not park here\n"
     ]
    }
   ],
   "source": [
    "meters = 300\n",
    "decide(meters)"
   ]
  },
  {
   "cell_type": "markdown",
   "metadata": {},
   "source": [
    "#### Problem 2\n",
    "##### Semantic of the problem:\n",
    "We have a set of data and we would like to find out the mean value: \n",
    "##### Syntax of the problem:"
   ]
  },
  {
   "cell_type": "code",
   "execution_count": 8,
   "metadata": {},
   "outputs": [
    {
     "name": "stdout",
     "output_type": "stream",
     "text": [
      "the mean is: 3.5\n"
     ]
    }
   ],
   "source": [
    "x = [0., 3., 2., 9.]\n",
    "# first method: using the standard python library:\n",
    "sum_of_elements = sum(x)\n",
    "number_of_elements = len(x)\n",
    "mean = sum_of_elements / number_of_elements\n",
    "print ('the mean is:', mean)"
   ]
  },
  {
   "cell_type": "code",
   "execution_count": 9,
   "metadata": {},
   "outputs": [
    {
     "name": "stdout",
     "output_type": "stream",
     "text": [
      "the mean value is: 3.5\n"
     ]
    }
   ],
   "source": [
    "# second method: using a third part library\n",
    "import numpy as np\n",
    "mean_value = np.mean(x)\n",
    "print('the mean value is:', mean_value)"
   ]
  },
  {
   "cell_type": "markdown",
   "metadata": {},
   "source": [
    "### Reference:\n",
    "\n",
    "- https://www.effective-quadratures.org/_documentation/tutorials.html"
   ]
  }
 ],
 "metadata": {
  "kernelspec": {
   "display_name": "Python 3",
   "language": "python",
   "name": "python3"
  },
  "language_info": {
   "codemirror_mode": {
    "name": "ipython",
    "version": 3
   },
   "file_extension": ".py",
   "mimetype": "text/x-python",
   "name": "python",
   "nbconvert_exporter": "python",
   "pygments_lexer": "ipython3",
   "version": "3.7.4"
  }
 },
 "nbformat": 4,
 "nbformat_minor": 2
}
