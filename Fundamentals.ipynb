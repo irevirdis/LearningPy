{
 "cells": [
  {
   "cell_type": "markdown",
   "metadata": {},
   "source": [
    "### Fundamentsl of Python\n",
    "Python is an interpreted language, very intuitive and 'funny'! (Python is multiparadigm programming language: from a simple structured script to an object-oriented one).\n",
    "The great advantage of this language is inside the semplicity of using third part libraries, so basically parts of code that someone else already wrote to achieve a goal.\n",
    "When you try to achieve an aim by coding in Python, you are easily supported by a third part library that now, in 2019, exists to cover all the working fields: for example, if you are a scientist you may approciate the third part library $\\textbf{NUMPY}$, which contains several mathematical functions and objects; if you are interested in represent a set of mathematical functions with plots, there is the third part library $\\textbf{MATPLOTLIB}$.\n",
    "Also, without using a third part library, Python gives you the  'build-in' types with which you can accomplish most of the programming problems.\n",
    "\n",
    "0) Types:\n",
    "\n",
    "0.0 ) Numeric Types: Python supports all the numerical types: \n",
    "- integer: 'int' represents the Natural Numbers; \n",
    "- float and double: 'float' and 'double' represents the Real numbers;\n",
    "- Complex: 'complex' represents the Complex numbers\n",
    "For these types the mathematics operators work like in maths: a float added to a complex will give us a complex:"
   ]
  },
  {
   "cell_type": "code",
   "execution_count": 1,
   "metadata": {},
   "outputs": [
    {
     "name": "stdout",
     "output_type": "stream",
     "text": [
      "the type of a is: <class 'float'>\n",
      "the type of c is: <class 'complex'>\n",
      "the type of the resulting number b is: <class 'complex'> its values is: (1.1+1.2j)\n"
     ]
    }
   ],
   "source": [
    "a = 0.9 # float\n",
    "c = 0.2 + 1.2j # complex\n",
    "b = a+c \n",
    "print ('the type of a is:',type(a))\n",
    "print ('the type of c is:', type(c))\n",
    "print ('the type of the resulting number b is:', type(b), 'its values is:', b)"
   ]
  },
  {
   "cell_type": "markdown",
   "metadata": {},
   "source": [
    "0.1) Characters and Strings:\n",
    "- string : 'str' represents a set of characters; it belongs also to the container types (lists and tuples)"
   ]
  },
  {
   "cell_type": "code",
   "execution_count": 4,
   "metadata": {},
   "outputs": [
    {
     "name": "stdout",
     "output_type": "stream",
     "text": [
      "the type of d is: <class 'str'>\n",
      "hello\n",
      "I want to transform into a word: I am a word\n"
     ]
    }
   ],
   "source": [
    "d = 'hello'\n",
    "print ('the type of d is:', type(d))\n",
    "print (d)\n",
    "print ('I want to transform into a string:', str('I am a word'))"
   ]
  },
  {
   "cell_type": "markdown",
   "metadata": {},
   "source": [
    "0.2 ) Containers:\n",
    "- list : 'list' representes a series of etherogenous types of elements, can be changed\n",
    "- tuple: 'tuple' represents a series of etherogenous types of elements, but cannot be changed."
   ]
  },
  {
   "cell_type": "code",
   "execution_count": 5,
   "metadata": {},
   "outputs": [
    {
     "name": "stdout",
     "output_type": "stream",
     "text": [
      "list e is: ['hello', 50, [3, 7, 9]]\n",
      "the type of the element  0  is: <class 'str'>\n",
      "the type of the element  1  is: <class 'int'>\n",
      "the type of the element  2  is: <class 'list'>\n"
     ]
    }
   ],
   "source": [
    "e = list()\n",
    "e.append('hello')\n",
    "e.append(50)\n",
    "e.append([3,7,9])\n",
    "print ('list e is:', e)\n",
    "for i in range(len(e)):\n",
    "    print('the type of the element ',i, ' is:', type(e[i]))"
   ]
  },
  {
   "cell_type": "code",
   "execution_count": 6,
   "metadata": {},
   "outputs": [
    {
     "name": "stdout",
     "output_type": "stream",
     "text": [
      "How is e now?  ['hello', [3, 8, 0], [3, 7, 9]]\n"
     ]
    }
   ],
   "source": [
    "# a list can be changed:\n",
    "# I want to change the 2nd element:\n",
    "# THE INDEXES IN PYTHON START FROM 0!\n",
    "e[1] = [3,8,0]\n",
    "print ('How is e now? ', e)"
   ]
  },
  {
   "cell_type": "markdown",
   "metadata": {},
   "source": [
    "The tuples are similar but cannot be changed once defined:"
   ]
  },
  {
   "cell_type": "code",
   "execution_count": 8,
   "metadata": {},
   "outputs": [],
   "source": [
    "f = tuple((4,7,8))\n",
    "# I try to change the second element:\n",
    "#f[1] = 3."
   ]
  },
  {
   "cell_type": "markdown",
   "metadata": {},
   "source": [
    "0.3) Dictionaries\n",
    "They represent a container type 'key-value': basically you associate to a key a certain value. The elements must be qualified by the key; this type is nor an ordered container."
   ]
  },
  {
   "cell_type": "code",
   "execution_count": 11,
   "metadata": {},
   "outputs": [
    {
     "name": "stdout",
     "output_type": "stream",
     "text": [
      "the dictionary is: {'first': 5, 'second': 90, 'third': [5, 0]}\n",
      "the element third is: [5, 0]\n"
     ]
    }
   ],
   "source": [
    "g = {'first':5,'second':90,'third':[5,0]}\n",
    "print ('the dictionary is:', g)\n",
    "print('the element third is:', g['third'])"
   ]
  },
  {
   "cell_type": "markdown",
   "metadata": {},
   "source": [
    "1) Variables and Constants\n",
    "\n",
    "The Variables are the letterals and can be found to the right or the left side of the $\\textbf{ASSIGNMENT OPERATOR (=)}$; the Constants are values that cannot be into the right hand side of the assignment operator. This value can be assigned to the variables."
   ]
  },
  {
   "cell_type": "code",
   "execution_count": 13,
   "metadata": {},
   "outputs": [
    {
     "name": "stdout",
     "output_type": "stream",
     "text": [
      "the value of h is: 8.2 and i is: 8.2\n"
     ]
    }
   ],
   "source": [
    "h = 8.2 # a constant is assigned to a variable\n",
    "i = h   # a variable is assigned to a variable\n",
    "print ('the value of h is:', h, 'and i is:', i)"
   ]
  },
  {
   "cell_type": "markdown",
   "metadata": {},
   "source": [
    "2) Functions\n",
    "\n",
    "Sometimes an operation is performed often in a program: it may be helpfully to save this operation as a function."
   ]
  },
  {
   "cell_type": "code",
   "execution_count": 15,
   "metadata": {},
   "outputs": [
    {
     "name": "stdout",
     "output_type": "stream",
     "text": [
      "hello\n",
      "I was born in: 1961\n"
     ]
    }
   ],
   "source": [
    "# to define a function you should implement the following syntax:\n",
    "# def name(input):\n",
    "def my_print():\n",
    "    print ('hello')\n",
    "def my_calculation(years):\n",
    "    actual_year = 2019\n",
    "    year_of_birth = actual_year - years\n",
    "    return year_of_birth\n",
    "my_print()\n",
    "print('I was born in:', my_calculation(58))"
   ]
  },
  {
   "cell_type": "markdown",
   "metadata": {},
   "source": [
    "3) Classes and objects\n",
    "\n",
    "When you deal with particular situations to be modelled (programming) you may need to combine several type (and create particular behaviour of the class named 'method', which are functions of the class) in order to create a new type, named $\\textbf{class}$. \n",
    "The syntax is the following:"
   ]
  },
  {
   "cell_type": "code",
   "execution_count": 18,
   "metadata": {},
   "outputs": [
    {
     "name": "stdout",
     "output_type": "stream",
     "text": [
      "Irene is  89 years old\n",
      "Tom is  12 years old\n"
     ]
    }
   ],
   "source": [
    "class Person:\n",
    "    def __init__(self, name, surname, age):\n",
    "        # they are attributes:\n",
    "        self.name = name\n",
    "        self.surname = surname\n",
    "        self.age = age\n",
    "    def get_age(self):\n",
    "        # it's a method\n",
    "        return self.age\n",
    "irene = Person('Irene', 'Virdis', 89)\n",
    "tom = Person('Tom', 'Smith', 12)\n",
    "print('Irene is ', irene.get_age(), 'years old')\n",
    "print('Tom is ', tom.get_age(), 'years old')"
   ]
  },
  {
   "cell_type": "markdown",
   "metadata": {},
   "source": [
    "'self' is a mark-place and represents the object itself."
   ]
  },
  {
   "cell_type": "markdown",
   "metadata": {},
   "source": [
    "4) Plot a data set\n",
    "\n",
    "As an introduction, in order to create plots, a third part library is needed. The suitable one is $\\textit{Matplotlib}$. This later is a Python module and, like all the modules, is used by the instruction 'import'."
   ]
  },
  {
   "cell_type": "code",
   "execution_count": 23,
   "metadata": {},
   "outputs": [
    {
     "name": "stdout",
     "output_type": "stream",
     "text": [
      "the y is: [0.47942554 0.62098599 0.70327942 0.77707175 0.83602598 0.84147098]\n"
     ]
    },
    {
     "data": {
      "image/png": "[encoded data removed]",
      "text/plain": [
       "<Figure size 432x288 with 1 Axes>"
      ]
     },
     "metadata": {
      "needs_background": "light"
     },
     "output_type": "display_data"
    }
   ],
   "source": [
    "import numpy as np\n",
    "import matplotlib.pyplot as plt\n",
    "# the litteral way to create a list is reported in the line below (just using square braces):\n",
    "x = [0.5, 0.67, .78, .89, .99, 1. ]\n",
    "y = np.sin(x)\n",
    "print ('the y is:', y)\n",
    "plt.figure()\n",
    "plt.plot(x,y, 'bo', label='sinX')\n",
    "plt.xlabel('X values')\n",
    "plt.ylabel('Y values')\n",
    "plt.title('The Sin(X) graph')\n",
    "plt.show()"
   ]
  },
  {
   "cell_type": "markdown",
   "metadata": {},
   "source": [
    "### In the next session: STATEMENTS: for, while, if, which govern the progam flux"
   ]
  },
  {
   "cell_type": "markdown",
   "metadata": {},
   "source": [
    "### Bibliography:\n",
    "\n",
    "- The Quick Python Book, Second Edition (2010), Vernon L. Ceder, Manning Pubblications Co, Greenwich."
   ]
  },
  {
   "cell_type": "code",
   "execution_count": null,
   "metadata": {},
   "outputs": [],
   "source": []
  }
 ],
 "metadata": {
  "kernelspec": {
   "display_name": "Python 3",
   "language": "python",
   "name": "python3"
  },
  "language_info": {
   "codemirror_mode": {
    "name": "ipython",
    "version": 3
   },
   "file_extension": ".py",
   "mimetype": "text/x-python",
   "name": "python",
   "nbconvert_exporter": "python",
   "pygments_lexer": "ipython3",
   "version": "3.7.4"
  }
 },
 "nbformat": 4,
 "nbformat_minor": 2
}
